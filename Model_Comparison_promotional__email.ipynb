{
  "nbformat": 4,
  "nbformat_minor": 0,
  "metadata": {
    "colab": {
      "name": "Model_Comparison_promotional_ email.ipynb",
      "provenance": [],
      "collapsed_sections": [],
      "authorship_tag": "ABX9TyMyckAuqGobXYEQwuKT7oFj",
      "include_colab_link": true
    },
    "kernelspec": {
      "name": "python3",
      "display_name": "Python 3"
    }
  },
  "cells": [
    {
      "cell_type": "markdown",
      "metadata": {
        "id": "view-in-github",
        "colab_type": "text"
      },
      "source": [
        "<a href=\"https://colab.research.google.com/github/vard-uhi/new-task/blob/main/Model_Comparison_promotional__email.ipynb\" target=\"_parent\"><img src=\"https://colab.research.google.com/assets/colab-badge.svg\" alt=\"Open In Colab\"/></a>"
      ]
    },
    {
      "cell_type": "markdown",
      "metadata": {
        "id": "skDcATCfEQeu"
      },
      "source": [
        "The following notebook provides an example code of churn prediction of the Promotional Email Campaign  using Logistic Regression. The dependent variable is Target (shows whether the customer responded the promotional offer (1) or not (0).\n"
      ]
    },
    {
      "cell_type": "code",
      "metadata": {
        "id": "iXsYzslUKa4l"
      },
      "source": [
        "import numpy as np\n",
        "import pandas as pd\n",
        "import matplotlib.pyplot as plt\n",
        "import seaborn as sns\n",
        "sns.set()\n",
        "from sklearn.linear_model import LogisticRegression\n",
        "from sklearn import metrics\n",
        "from sklearn.metrics import confusion_matrix\n",
        "from sklearn.metrics import classification_report\n",
        "from sklearn.metrics import accuracy_score\n",
        "from sklearn.metrics import recall_score"
      ],
      "execution_count": 1,
      "outputs": []
    },
    {
      "cell_type": "code",
      "metadata": {
        "id": "JR0to_N8Kuvy",
        "colab": {
          "resources": {
            "http://localhost:8080/nbextensions/google.colab/files.js": {
              "data": "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",
              "ok": true,
              "headers": [
                [
                  "content-type",
                  "application/javascript"
                ]
              ],
              "status": 200,
              "status_text": ""
            }
          },
          "base_uri": "https://localhost:8080/",
          "height": 72
        },
        "outputId": "c5ee1907-d799-41a7-decc-22e521ecfb47"
      },
      "source": [
        "#load the data\n",
        "from google.colab import files\n",
        "data_to_load = files.upload()"
      ],
      "execution_count": 2,
      "outputs": [
        {
          "output_type": "display_data",
          "data": {
            "text/html": [
              "\n",
              "     <input type=\"file\" id=\"files-a8cd586e-ced4-40f3-8232-392c55fad52a\" name=\"files[]\" multiple disabled\n",
              "        style=\"border:none\" />\n",
              "     <output id=\"result-a8cd586e-ced4-40f3-8232-392c55fad52a\">\n",
              "      Upload widget is only available when the cell has been executed in the\n",
              "      current browser session. Please rerun this cell to enable.\n",
              "      </output>\n",
              "      <script src=\"/nbextensions/google.colab/files.js\"></script> "
            ],
            "text/plain": [
              "<IPython.core.display.HTML object>"
            ]
          },
          "metadata": {
            "tags": []
          }
        },
        {
          "output_type": "stream",
          "text": [
            "Saving train.csv to train.csv\n"
          ],
          "name": "stdout"
        }
      ]
    },
    {
      "cell_type": "code",
      "metadata": {
        "id": "I94Hv5HdKx2Q"
      },
      "source": [
        "import io\n",
        "# .read_csv() assigns the information from the initial *.csv file to this variable\n",
        "raw_data = pd.read_csv(io.BytesIO(data_to_load['train.csv']))"
      ],
      "execution_count": 3,
      "outputs": []
    },
    {
      "cell_type": "code",
      "metadata": {
        "id": "wbnDNJe9LaOv"
      },
      "source": [
        "df_train = raw_data.copy()"
      ],
      "execution_count": 4,
      "outputs": []
    },
    {
      "cell_type": "code",
      "metadata": {
        "id": "jwHX9MCbL6Le",
        "colab": {
          "base_uri": "https://localhost:8080/",
          "height": 224
        },
        "outputId": "af0fb228-b43d-47fd-b919-052e29499207"
      },
      "source": [
        "df_train.head()"
      ],
      "execution_count": 5,
      "outputs": [
        {
          "output_type": "execute_result",
          "data": {
            "text/html": [
              "<div>\n",
              "<style scoped>\n",
              "    .dataframe tbody tr th:only-of-type {\n",
              "        vertical-align: middle;\n",
              "    }\n",
              "\n",
              "    .dataframe tbody tr th {\n",
              "        vertical-align: top;\n",
              "    }\n",
              "\n",
              "    .dataframe thead th {\n",
              "        text-align: right;\n",
              "    }\n",
              "</style>\n",
              "<table border=\"1\" class=\"dataframe\">\n",
              "  <thead>\n",
              "    <tr style=\"text-align: right;\">\n",
              "      <th></th>\n",
              "      <th>variable_0</th>\n",
              "      <th>variable_1</th>\n",
              "      <th>variable_2</th>\n",
              "      <th>variable_3</th>\n",
              "      <th>variable_4</th>\n",
              "      <th>variable_5</th>\n",
              "      <th>variable_6</th>\n",
              "      <th>variable_7</th>\n",
              "      <th>variable_8</th>\n",
              "      <th>variable_9</th>\n",
              "      <th>variable_10</th>\n",
              "      <th>variable_11</th>\n",
              "      <th>variable_12</th>\n",
              "      <th>variable_13</th>\n",
              "      <th>variable_14</th>\n",
              "      <th>variable_15</th>\n",
              "      <th>variable_16</th>\n",
              "      <th>variable_17</th>\n",
              "      <th>State</th>\n",
              "      <th>ID</th>\n",
              "      <th>target</th>\n",
              "    </tr>\n",
              "  </thead>\n",
              "  <tbody>\n",
              "    <tr>\n",
              "      <th>0</th>\n",
              "      <td>120</td>\n",
              "      <td>2.51</td>\n",
              "      <td>6.60</td>\n",
              "      <td>0</td>\n",
              "      <td>0</td>\n",
              "      <td>9.3</td>\n",
              "      <td>16.69</td>\n",
              "      <td>186.7</td>\n",
              "      <td>4</td>\n",
              "      <td>15.87</td>\n",
              "      <td>98.2</td>\n",
              "      <td>0</td>\n",
              "      <td>146.7</td>\n",
              "      <td>85</td>\n",
              "      <td>99</td>\n",
              "      <td>96</td>\n",
              "      <td>408</td>\n",
              "      <td>2</td>\n",
              "      <td>GA</td>\n",
              "      <td>0</td>\n",
              "      <td>0</td>\n",
              "    </tr>\n",
              "    <tr>\n",
              "      <th>1</th>\n",
              "      <td>94</td>\n",
              "      <td>1.81</td>\n",
              "      <td>8.13</td>\n",
              "      <td>0</td>\n",
              "      <td>0</td>\n",
              "      <td>6.7</td>\n",
              "      <td>30.82</td>\n",
              "      <td>182.4</td>\n",
              "      <td>2</td>\n",
              "      <td>15.50</td>\n",
              "      <td>181.3</td>\n",
              "      <td>0</td>\n",
              "      <td>180.6</td>\n",
              "      <td>108</td>\n",
              "      <td>135</td>\n",
              "      <td>103</td>\n",
              "      <td>415</td>\n",
              "      <td>0</td>\n",
              "      <td>OH</td>\n",
              "      <td>1</td>\n",
              "      <td>0</td>\n",
              "    </tr>\n",
              "    <tr>\n",
              "      <th>2</th>\n",
              "      <td>82</td>\n",
              "      <td>3.00</td>\n",
              "      <td>4.93</td>\n",
              "      <td>0</td>\n",
              "      <td>0</td>\n",
              "      <td>11.1</td>\n",
              "      <td>24.46</td>\n",
              "      <td>194.9</td>\n",
              "      <td>2</td>\n",
              "      <td>16.57</td>\n",
              "      <td>143.9</td>\n",
              "      <td>0</td>\n",
              "      <td>109.6</td>\n",
              "      <td>105</td>\n",
              "      <td>61</td>\n",
              "      <td>94</td>\n",
              "      <td>510</td>\n",
              "      <td>1</td>\n",
              "      <td>DC</td>\n",
              "      <td>2</td>\n",
              "      <td>0</td>\n",
              "    </tr>\n",
              "    <tr>\n",
              "      <th>3</th>\n",
              "      <td>170</td>\n",
              "      <td>2.27</td>\n",
              "      <td>6.05</td>\n",
              "      <td>0</td>\n",
              "      <td>1</td>\n",
              "      <td>8.4</td>\n",
              "      <td>44.18</td>\n",
              "      <td>245.0</td>\n",
              "      <td>3</td>\n",
              "      <td>20.83</td>\n",
              "      <td>259.9</td>\n",
              "      <td>0</td>\n",
              "      <td>134.4</td>\n",
              "      <td>122</td>\n",
              "      <td>68</td>\n",
              "      <td>121</td>\n",
              "      <td>510</td>\n",
              "      <td>3</td>\n",
              "      <td>VA</td>\n",
              "      <td>3</td>\n",
              "      <td>0</td>\n",
              "    </tr>\n",
              "    <tr>\n",
              "      <th>4</th>\n",
              "      <td>93</td>\n",
              "      <td>3.38</td>\n",
              "      <td>3.20</td>\n",
              "      <td>19</td>\n",
              "      <td>0</td>\n",
              "      <td>12.5</td>\n",
              "      <td>23.26</td>\n",
              "      <td>179.5</td>\n",
              "      <td>3</td>\n",
              "      <td>15.26</td>\n",
              "      <td>136.8</td>\n",
              "      <td>1</td>\n",
              "      <td>71.1</td>\n",
              "      <td>105</td>\n",
              "      <td>113</td>\n",
              "      <td>95</td>\n",
              "      <td>510</td>\n",
              "      <td>2</td>\n",
              "      <td>CA</td>\n",
              "      <td>4</td>\n",
              "      <td>0</td>\n",
              "    </tr>\n",
              "  </tbody>\n",
              "</table>\n",
              "</div>"
            ],
            "text/plain": [
              "   variable_0  variable_1  variable_2  ...  State  ID  target\n",
              "0         120        2.51        6.60  ...     GA   0       0\n",
              "1          94        1.81        8.13  ...     OH   1       0\n",
              "2          82        3.00        4.93  ...     DC   2       0\n",
              "3         170        2.27        6.05  ...     VA   3       0\n",
              "4          93        3.38        3.20  ...     CA   4       0\n",
              "\n",
              "[5 rows x 21 columns]"
            ]
          },
          "metadata": {
            "tags": []
          },
          "execution_count": 5
        }
      ]
    },
    {
      "cell_type": "code",
      "metadata": {
        "id": "VKUH0_BmMAI4",
        "colab": {
          "base_uri": "https://localhost:8080/"
        },
        "outputId": "b37f61c8-6bbb-4aa2-cd34-402e90144beb"
      },
      "source": [
        "df_train.info()"
      ],
      "execution_count": 6,
      "outputs": [
        {
          "output_type": "stream",
          "text": [
            "<class 'pandas.core.frame.DataFrame'>\n",
            "RangeIndex: 3000 entries, 0 to 2999\n",
            "Data columns (total 21 columns):\n",
            " #   Column       Non-Null Count  Dtype  \n",
            "---  ------       --------------  -----  \n",
            " 0   variable_0   3000 non-null   int64  \n",
            " 1   variable_1   3000 non-null   float64\n",
            " 2   variable_2   3000 non-null   float64\n",
            " 3   variable_3   3000 non-null   int64  \n",
            " 4   variable_4   3000 non-null   int64  \n",
            " 5   variable_5   3000 non-null   float64\n",
            " 6   variable_6   3000 non-null   float64\n",
            " 7   variable_7   3000 non-null   float64\n",
            " 8   variable_8   3000 non-null   int64  \n",
            " 9   variable_9   3000 non-null   float64\n",
            " 10  variable_10  3000 non-null   float64\n",
            " 11  variable_11  3000 non-null   int64  \n",
            " 12  variable_12  3000 non-null   float64\n",
            " 13  variable_13  3000 non-null   int64  \n",
            " 14  variable_14  3000 non-null   int64  \n",
            " 15  variable_15  3000 non-null   int64  \n",
            " 16  variable_16  3000 non-null   int64  \n",
            " 17  variable_17  3000 non-null   int64  \n",
            " 18  State        3000 non-null   object \n",
            " 19  ID           3000 non-null   int64  \n",
            " 20  target       3000 non-null   int64  \n",
            "dtypes: float64(8), int64(12), object(1)\n",
            "memory usage: 492.3+ KB\n"
          ],
          "name": "stdout"
        }
      ]
    },
    {
      "cell_type": "code",
      "metadata": {
        "id": "c5bvTCqUNv07",
        "colab": {
          "resources": {
            "http://localhost:8080/nbextensions/google.colab/files.js": {
              "data": "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",
              "ok": true,
              "headers": [
                [
                  "content-type",
                  "application/javascript"
                ]
              ],
              "status": 200,
              "status_text": ""
            }
          },
          "base_uri": "https://localhost:8080/",
          "height": 72
        },
        "outputId": "29163d77-0d03-4bac-e7a7-48f010342234"
      },
      "source": [
        "#load the data\n",
        "from google.colab import files\n",
        "data_to_load2 = files.upload()"
      ],
      "execution_count": 7,
      "outputs": [
        {
          "output_type": "display_data",
          "data": {
            "text/html": [
              "\n",
              "     <input type=\"file\" id=\"files-df2cc386-bacf-44c8-bf72-90d6aac3cc3d\" name=\"files[]\" multiple disabled\n",
              "        style=\"border:none\" />\n",
              "     <output id=\"result-df2cc386-bacf-44c8-bf72-90d6aac3cc3d\">\n",
              "      Upload widget is only available when the cell has been executed in the\n",
              "      current browser session. Please rerun this cell to enable.\n",
              "      </output>\n",
              "      <script src=\"/nbextensions/google.colab/files.js\"></script> "
            ],
            "text/plain": [
              "<IPython.core.display.HTML object>"
            ]
          },
          "metadata": {
            "tags": []
          }
        },
        {
          "output_type": "stream",
          "text": [
            "Saving test.csv to test.csv\n"
          ],
          "name": "stdout"
        }
      ]
    },
    {
      "cell_type": "code",
      "metadata": {
        "id": "fcryg7bSMEor"
      },
      "source": [
        "import io\n",
        "# .read_csv() assigns the information from the initial *.csv file to this variable\n",
        "raw_data2 = pd.read_csv(io.BytesIO(data_to_load2['test.csv']))"
      ],
      "execution_count": 8,
      "outputs": []
    },
    {
      "cell_type": "code",
      "metadata": {
        "id": "VXEHK_0mN1IF"
      },
      "source": [
        "df_test = raw_data2.copy()"
      ],
      "execution_count": 9,
      "outputs": []
    },
    {
      "cell_type": "code",
      "metadata": {
        "id": "kwlgBYWlN7gx",
        "colab": {
          "base_uri": "https://localhost:8080/"
        },
        "outputId": "933155f6-445c-40d8-ad73-48543a77dc7b"
      },
      "source": [
        "df_test.info()"
      ],
      "execution_count": 10,
      "outputs": [
        {
          "output_type": "stream",
          "text": [
            "<class 'pandas.core.frame.DataFrame'>\n",
            "RangeIndex: 333 entries, 0 to 332\n",
            "Data columns (total 20 columns):\n",
            " #   Column       Non-Null Count  Dtype  \n",
            "---  ------       --------------  -----  \n",
            " 0   variable_0   333 non-null    int64  \n",
            " 1   variable_1   333 non-null    float64\n",
            " 2   variable_2   333 non-null    float64\n",
            " 3   variable_3   333 non-null    int64  \n",
            " 4   variable_4   333 non-null    int64  \n",
            " 5   variable_5   333 non-null    float64\n",
            " 6   variable_6   333 non-null    float64\n",
            " 7   variable_7   333 non-null    float64\n",
            " 8   variable_8   333 non-null    int64  \n",
            " 9   variable_9   333 non-null    float64\n",
            " 10  variable_10  333 non-null    float64\n",
            " 11  variable_11  333 non-null    int64  \n",
            " 12  variable_12  333 non-null    float64\n",
            " 13  variable_13  333 non-null    int64  \n",
            " 14  variable_14  333 non-null    int64  \n",
            " 15  variable_15  333 non-null    int64  \n",
            " 16  variable_16  333 non-null    int64  \n",
            " 17  variable_17  333 non-null    int64  \n",
            " 18  State        333 non-null    object \n",
            " 19  ID           333 non-null    int64  \n",
            "dtypes: float64(8), int64(11), object(1)\n",
            "memory usage: 52.2+ KB\n"
          ],
          "name": "stdout"
        }
      ]
    },
    {
      "cell_type": "markdown",
      "metadata": {
        "id": "FgmI7S0TrGqS"
      },
      "source": [
        "Exploratory Data Analysis"
      ]
    },
    {
      "cell_type": "code",
      "metadata": {
        "id": "hR3AXKvYrSpm",
        "colab": {
          "base_uri": "https://localhost:8080/"
        },
        "outputId": "6df42e75-5376-4e71-de66-3868b9327903"
      },
      "source": [
        "#to see how many unique values we have under State\n",
        "df_train['State'].unique()"
      ],
      "execution_count": 11,
      "outputs": [
        {
          "output_type": "execute_result",
          "data": {
            "text/plain": [
              "array(['GA', 'OH', 'DC', 'VA', 'CA', 'MT', 'ND', 'IN', 'MI', 'SC', 'MD',\n",
              "       'NV', 'ID', 'AZ', 'WY', 'MA', 'SD', 'TX', 'AL', 'CO', 'FL', 'IL',\n",
              "       'NE', 'KY', 'DE', 'MN', 'IA', 'OR', 'OK', 'AK', 'UT', 'MS', 'PA',\n",
              "       'WI', 'NY', 'NM', 'HI', 'KS', 'LA', 'NJ', 'RI', 'NH', 'CT', 'NC',\n",
              "       'WA', 'MO', 'WV', 'ME', 'AR', 'VT', 'TN'], dtype=object)"
            ]
          },
          "metadata": {
            "tags": []
          },
          "execution_count": 11
        }
      ]
    },
    {
      "cell_type": "code",
      "metadata": {
        "id": "GCKVYJCDhSMI",
        "colab": {
          "base_uri": "https://localhost:8080/",
          "height": 409
        },
        "outputId": "7c300474-52ef-4219-d7d7-80f13b8f59ec"
      },
      "source": [
        "#let's visualise the distribution of churn\n",
        "plt.figure(figsize=(9,5))\n",
        "sns.countplot(df_train.target)\n",
        "plt.title(\"Target distribution\")\n",
        "plt.show()"
      ],
      "execution_count": 12,
      "outputs": [
        {
          "output_type": "stream",
          "text": [
            "/usr/local/lib/python3.6/dist-packages/seaborn/_decorators.py:43: FutureWarning: Pass the following variable as a keyword arg: x. From version 0.12, the only valid positional argument will be `data`, and passing other arguments without an explicit keyword will result in an error or misinterpretation.\n",
            "  FutureWarning\n"
          ],
          "name": "stderr"
        },
        {
          "output_type": "display_data",
          "data": {
            "image/png": "[encoded data removed]",
            "text/plain": [
              "<Figure size 648x360 with 1 Axes>"
            ]
          },
          "metadata": {
            "tags": [],
            "needs_background": "light"
          }
        }
      ]
    },
    {
      "cell_type": "markdown",
      "metadata": {
        "id": "SHk1WiCt61-r"
      },
      "source": [
        "Our Target Data is unbalanced."
      ]
    },
    {
      "cell_type": "code",
      "metadata": {
        "id": "Ye8euwcHiNEJ",
        "colab": {
          "base_uri": "https://localhost:8080/"
        },
        "outputId": "b420c9be-167e-4411-e2d1-5577f500fe76"
      },
      "source": [
        "#lets count the benchmark for churn\n",
        "df_train.target.value_counts(normalize=True).mul(100).rename(\"Target percentage\")"
      ],
      "execution_count": 13,
      "outputs": [
        {
          "output_type": "execute_result",
          "data": {
            "text/plain": [
              "0    85.166667\n",
              "1    14.833333\n",
              "Name: Target percentage, dtype: float64"
            ]
          },
          "metadata": {
            "tags": []
          },
          "execution_count": 13
        }
      ]
    },
    {
      "cell_type": "markdown",
      "metadata": {
        "id": "dEKWoLN_EJyR"
      },
      "source": [
        "Data Preprocessing Training data"
      ]
    },
    {
      "cell_type": "code",
      "metadata": {
        "id": "YaITmiy4EWRm",
        "colab": {
          "base_uri": "https://localhost:8080/",
          "height": 224
        },
        "outputId": "9d4d637d-48ed-43fc-fb8b-696c3f5f5e7b"
      },
      "source": [
        "df_train.head()"
      ],
      "execution_count": null,
      "outputs": [
        {
          "output_type": "execute_result",
          "data": {
            "text/html": [
              "<div>\n",
              "<style scoped>\n",
              "    .dataframe tbody tr th:only-of-type {\n",
              "        vertical-align: middle;\n",
              "    }\n",
              "\n",
              "    .dataframe tbody tr th {\n",
              "        vertical-align: top;\n",
              "    }\n",
              "\n",
              "    .dataframe thead th {\n",
              "        text-align: right;\n",
              "    }\n",
              "</style>\n",
              "<table border=\"1\" class=\"dataframe\">\n",
              "  <thead>\n",
              "    <tr style=\"text-align: right;\">\n",
              "      <th></th>\n",
              "      <th>variable_0</th>\n",
              "      <th>variable_1</th>\n",
              "      <th>variable_2</th>\n",
              "      <th>variable_3</th>\n",
              "      <th>variable_4</th>\n",
              "      <th>variable_5</th>\n",
              "      <th>variable_6</th>\n",
              "      <th>variable_7</th>\n",
              "      <th>variable_8</th>\n",
              "      <th>variable_9</th>\n",
              "      <th>variable_10</th>\n",
              "      <th>variable_11</th>\n",
              "      <th>variable_12</th>\n",
              "      <th>variable_13</th>\n",
              "      <th>variable_14</th>\n",
              "      <th>variable_15</th>\n",
              "      <th>variable_16</th>\n",
              "      <th>variable_17</th>\n",
              "      <th>State</th>\n",
              "      <th>ID</th>\n",
              "      <th>target</th>\n",
              "    </tr>\n",
              "  </thead>\n",
              "  <tbody>\n",
              "    <tr>\n",
              "      <th>0</th>\n",
              "      <td>120</td>\n",
              "      <td>2.51</td>\n",
              "      <td>6.60</td>\n",
              "      <td>0</td>\n",
              "      <td>0</td>\n",
              "      <td>9.3</td>\n",
              "      <td>16.69</td>\n",
              "      <td>186.7</td>\n",
              "      <td>4</td>\n",
              "      <td>15.87</td>\n",
              "      <td>98.2</td>\n",
              "      <td>0</td>\n",
              "      <td>146.7</td>\n",
              "      <td>85</td>\n",
              "      <td>99</td>\n",
              "      <td>96</td>\n",
              "      <td>408</td>\n",
              "      <td>2</td>\n",
              "      <td>GA</td>\n",
              "      <td>0</td>\n",
              "      <td>0</td>\n",
              "    </tr>\n",
              "    <tr>\n",
              "      <th>1</th>\n",
              "      <td>94</td>\n",
              "      <td>1.81</td>\n",
              "      <td>8.13</td>\n",
              "      <td>0</td>\n",
              "      <td>0</td>\n",
              "      <td>6.7</td>\n",
              "      <td>30.82</td>\n",
              "      <td>182.4</td>\n",
              "      <td>2</td>\n",
              "      <td>15.50</td>\n",
              "      <td>181.3</td>\n",
              "      <td>0</td>\n",
              "      <td>180.6</td>\n",
              "      <td>108</td>\n",
              "      <td>135</td>\n",
              "      <td>103</td>\n",
              "      <td>415</td>\n",
              "      <td>0</td>\n",
              "      <td>OH</td>\n",
              "      <td>1</td>\n",
              "      <td>0</td>\n",
              "    </tr>\n",
              "    <tr>\n",
              "      <th>2</th>\n",
              "      <td>82</td>\n",
              "      <td>3.00</td>\n",
              "      <td>4.93</td>\n",
              "      <td>0</td>\n",
              "      <td>0</td>\n",
              "      <td>11.1</td>\n",
              "      <td>24.46</td>\n",
              "      <td>194.9</td>\n",
              "      <td>2</td>\n",
              "      <td>16.57</td>\n",
              "      <td>143.9</td>\n",
              "      <td>0</td>\n",
              "      <td>109.6</td>\n",
              "      <td>105</td>\n",
              "      <td>61</td>\n",
              "      <td>94</td>\n",
              "      <td>510</td>\n",
              "      <td>1</td>\n",
              "      <td>DC</td>\n",
              "      <td>2</td>\n",
              "      <td>0</td>\n",
              "    </tr>\n",
              "    <tr>\n",
              "      <th>3</th>\n",
              "      <td>170</td>\n",
              "      <td>2.27</td>\n",
              "      <td>6.05</td>\n",
              "      <td>0</td>\n",
              "      <td>1</td>\n",
              "      <td>8.4</td>\n",
              "      <td>44.18</td>\n",
              "      <td>245.0</td>\n",
              "      <td>3</td>\n",
              "      <td>20.83</td>\n",
              "      <td>259.9</td>\n",
              "      <td>0</td>\n",
              "      <td>134.4</td>\n",
              "      <td>122</td>\n",
              "      <td>68</td>\n",
              "      <td>121</td>\n",
              "      <td>510</td>\n",
              "      <td>3</td>\n",
              "      <td>VA</td>\n",
              "      <td>3</td>\n",
              "      <td>0</td>\n",
              "    </tr>\n",
              "    <tr>\n",
              "      <th>4</th>\n",
              "      <td>93</td>\n",
              "      <td>3.38</td>\n",
              "      <td>3.20</td>\n",
              "      <td>19</td>\n",
              "      <td>0</td>\n",
              "      <td>12.5</td>\n",
              "      <td>23.26</td>\n",
              "      <td>179.5</td>\n",
              "      <td>3</td>\n",
              "      <td>15.26</td>\n",
              "      <td>136.8</td>\n",
              "      <td>1</td>\n",
              "      <td>71.1</td>\n",
              "      <td>105</td>\n",
              "      <td>113</td>\n",
              "      <td>95</td>\n",
              "      <td>510</td>\n",
              "      <td>2</td>\n",
              "      <td>CA</td>\n",
              "      <td>4</td>\n",
              "      <td>0</td>\n",
              "    </tr>\n",
              "  </tbody>\n",
              "</table>\n",
              "</div>"
            ],
            "text/plain": [
              "   variable_0  variable_1  variable_2  variable_3  variable_4  variable_5  \\\n",
              "0         120        2.51        6.60           0           0         9.3   \n",
              "1          94        1.81        8.13           0           0         6.7   \n",
              "2          82        3.00        4.93           0           0        11.1   \n",
              "3         170        2.27        6.05           0           1         8.4   \n",
              "4          93        3.38        3.20          19           0        12.5   \n",
              "\n",
              "   variable_6  variable_7  variable_8  variable_9  variable_10  variable_11  \\\n",
              "0       16.69       186.7           4       15.87         98.2            0   \n",
              "1       30.82       182.4           2       15.50        181.3            0   \n",
              "2       24.46       194.9           2       16.57        143.9            0   \n",
              "3       44.18       245.0           3       20.83        259.9            0   \n",
              "4       23.26       179.5           3       15.26        136.8            1   \n",
              "\n",
              "   variable_12  variable_13  variable_14  variable_15  variable_16  \\\n",
              "0        146.7           85           99           96          408   \n",
              "1        180.6          108          135          103          415   \n",
              "2        109.6          105           61           94          510   \n",
              "3        134.4          122           68          121          510   \n",
              "4         71.1          105          113           95          510   \n",
              "\n",
              "   variable_17 State  ID  target  \n",
              "0            2    GA   0       0  \n",
              "1            0    OH   1       0  \n",
              "2            1    DC   2       0  \n",
              "3            3    VA   3       0  \n",
              "4            2    CA   4       0  "
            ]
          },
          "metadata": {
            "tags": []
          },
          "execution_count": 86
        }
      ]
    },
    {
      "cell_type": "code",
      "metadata": {
        "id": "qjNfPqiFjSHE"
      },
      "source": [
        "# Removing ID\n",
        "df_train = df_train.drop(columns='ID')"
      ],
      "execution_count": 14,
      "outputs": []
    },
    {
      "cell_type": "code",
      "metadata": {
        "id": "FH8EMQrrwX_a"
      },
      "source": [
        "#drop state\n",
        "df_train = df_train.drop(columns='State')"
      ],
      "execution_count": 15,
      "outputs": []
    },
    {
      "cell_type": "markdown",
      "metadata": {
        "id": "bK268UqyEufa"
      },
      "source": [
        "Correlation Matrix"
      ]
    },
    {
      "cell_type": "code",
      "metadata": {
        "id": "orTR9zd5EiOB",
        "colab": {
          "base_uri": "https://localhost:8080/",
          "height": 544
        },
        "outputId": "d45fe707-5579-481e-e14d-c59be5bd2229"
      },
      "source": [
        "#Let's visualize correlations\n",
        "plt.figure(figsize=(13,8))\n",
        "sns.heatmap(df_train.corr().abs().round(2),annot=True, cmap = \"BuGn\")\n",
        "plt.show()"
      ],
      "execution_count": 16,
      "outputs": [
        {
          "output_type": "display_data",
          "data": {
            "image/png": "[encoded data removed]",
            "text/plain": [
              "<Figure size 936x576 with 2 Axes>"
            ]
          },
          "metadata": {
            "tags": [],
            "needs_background": "light"
          }
        }
      ]
    },
    {
      "cell_type": "markdown",
      "metadata": {
        "id": "mcdb61NsK_tA"
      },
      "source": [
        "We see several strongly correlated Variables. This time we will remove them to see improvement in predictions."
      ]
    },
    {
      "cell_type": "code",
      "metadata": {
        "id": "xbCfwMOv8KTX"
      },
      "source": [
        "#removing correlated variables\n",
        "df_train = df_train.drop(columns = ['variable_5', 'variable_9', 'variable_10', 'variable_11', 'variable_12'])"
      ],
      "execution_count": 19,
      "outputs": []
    },
    {
      "cell_type": "code",
      "metadata": {
        "id": "61Gqz920FLsr",
        "colab": {
          "base_uri": "https://localhost:8080/"
        },
        "outputId": "9d63af3e-200b-44fa-c03f-37395d39783c"
      },
      "source": [
        "# How many columns do we now have?\n",
        "len(df_train.columns)"
      ],
      "execution_count": 21,
      "outputs": [
        {
          "output_type": "execute_result",
          "data": {
            "text/plain": [
              "14"
            ]
          },
          "metadata": {
            "tags": []
          },
          "execution_count": 21
        }
      ]
    },
    {
      "cell_type": "markdown",
      "metadata": {
        "id": "ZuVJGuEgFpp6"
      },
      "source": [
        "Preparing Test Data"
      ]
    },
    {
      "cell_type": "code",
      "metadata": {
        "id": "YzV_hKJzFYr3"
      },
      "source": [
        "# Removing ID and State\n",
        "df_test = df_test.drop(columns=['ID', 'State'])"
      ],
      "execution_count": 22,
      "outputs": []
    },
    {
      "cell_type": "code",
      "metadata": {
        "id": "kzEzBNTgw0pn"
      },
      "source": [
        "#removing also correlated variables\n",
        "df_test = df_test.drop(columns=['variable_5', 'variable_9', 'variable_10', 'variable_11', 'variable_12'])"
      ],
      "execution_count": 23,
      "outputs": []
    },
    {
      "cell_type": "code",
      "metadata": {
        "id": "BtGTEINhwysi",
        "colab": {
          "base_uri": "https://localhost:8080/",
          "height": 224
        },
        "outputId": "e61418b3-e940-412e-ec51-6101a2a34102"
      },
      "source": [
        "df_test.head()"
      ],
      "execution_count": 24,
      "outputs": [
        {
          "output_type": "execute_result",
          "data": {
            "text/html": [
              "<div>\n",
              "<style scoped>\n",
              "    .dataframe tbody tr th:only-of-type {\n",
              "        vertical-align: middle;\n",
              "    }\n",
              "\n",
              "    .dataframe tbody tr th {\n",
              "        vertical-align: top;\n",
              "    }\n",
              "\n",
              "    .dataframe thead th {\n",
              "        text-align: right;\n",
              "    }\n",
              "</style>\n",
              "<table border=\"1\" class=\"dataframe\">\n",
              "  <thead>\n",
              "    <tr style=\"text-align: right;\">\n",
              "      <th></th>\n",
              "      <th>variable_0</th>\n",
              "      <th>variable_1</th>\n",
              "      <th>variable_2</th>\n",
              "      <th>variable_3</th>\n",
              "      <th>variable_4</th>\n",
              "      <th>variable_6</th>\n",
              "      <th>variable_7</th>\n",
              "      <th>variable_8</th>\n",
              "      <th>variable_13</th>\n",
              "      <th>variable_14</th>\n",
              "      <th>variable_15</th>\n",
              "      <th>variable_16</th>\n",
              "      <th>variable_17</th>\n",
              "    </tr>\n",
              "  </thead>\n",
              "  <tbody>\n",
              "    <tr>\n",
              "      <th>0</th>\n",
              "      <td>54</td>\n",
              "      <td>2.62</td>\n",
              "      <td>5.21</td>\n",
              "      <td>0</td>\n",
              "      <td>0</td>\n",
              "      <td>27.17</td>\n",
              "      <td>264.0</td>\n",
              "      <td>7</td>\n",
              "      <td>64</td>\n",
              "      <td>99</td>\n",
              "      <td>70</td>\n",
              "      <td>408</td>\n",
              "      <td>2</td>\n",
              "    </tr>\n",
              "    <tr>\n",
              "      <th>1</th>\n",
              "      <td>116</td>\n",
              "      <td>3.35</td>\n",
              "      <td>5.86</td>\n",
              "      <td>0</td>\n",
              "      <td>0</td>\n",
              "      <td>23.36</td>\n",
              "      <td>120.0</td>\n",
              "      <td>2</td>\n",
              "      <td>94</td>\n",
              "      <td>126</td>\n",
              "      <td>64</td>\n",
              "      <td>510</td>\n",
              "      <td>3</td>\n",
              "    </tr>\n",
              "    <tr>\n",
              "      <th>2</th>\n",
              "      <td>92</td>\n",
              "      <td>3.32</td>\n",
              "      <td>10.78</td>\n",
              "      <td>0</td>\n",
              "      <td>0</td>\n",
              "      <td>31.40</td>\n",
              "      <td>262.0</td>\n",
              "      <td>6</td>\n",
              "      <td>73</td>\n",
              "      <td>60</td>\n",
              "      <td>120</td>\n",
              "      <td>415</td>\n",
              "      <td>2</td>\n",
              "    </tr>\n",
              "    <tr>\n",
              "      <th>3</th>\n",
              "      <td>66</td>\n",
              "      <td>3.24</td>\n",
              "      <td>5.95</td>\n",
              "      <td>32</td>\n",
              "      <td>0</td>\n",
              "      <td>31.93</td>\n",
              "      <td>129.8</td>\n",
              "      <td>3</td>\n",
              "      <td>90</td>\n",
              "      <td>117</td>\n",
              "      <td>113</td>\n",
              "      <td>408</td>\n",
              "      <td>2</td>\n",
              "    </tr>\n",
              "    <tr>\n",
              "      <th>4</th>\n",
              "      <td>136</td>\n",
              "      <td>2.65</td>\n",
              "      <td>10.08</td>\n",
              "      <td>0</td>\n",
              "      <td>0</td>\n",
              "      <td>34.77</td>\n",
              "      <td>208.8</td>\n",
              "      <td>2</td>\n",
              "      <td>95</td>\n",
              "      <td>63</td>\n",
              "      <td>119</td>\n",
              "      <td>510</td>\n",
              "      <td>0</td>\n",
              "    </tr>\n",
              "  </tbody>\n",
              "</table>\n",
              "</div>"
            ],
            "text/plain": [
              "   variable_0  variable_1  variable_2  ...  variable_15  variable_16  variable_17\n",
              "0          54        2.62        5.21  ...           70          408            2\n",
              "1         116        3.35        5.86  ...           64          510            3\n",
              "2          92        3.32       10.78  ...          120          415            2\n",
              "3          66        3.24        5.95  ...          113          408            2\n",
              "4         136        2.65       10.08  ...          119          510            0\n",
              "\n",
              "[5 rows x 13 columns]"
            ]
          },
          "metadata": {
            "tags": []
          },
          "execution_count": 24
        }
      ]
    },
    {
      "cell_type": "code",
      "metadata": {
        "id": "zRWTSHfwGAAB",
        "colab": {
          "base_uri": "https://localhost:8080/"
        },
        "outputId": "c90891dd-3374-4b17-a7fc-2aa90d21d66a"
      },
      "source": [
        "len(df_test.columns)"
      ],
      "execution_count": 25,
      "outputs": [
        {
          "output_type": "execute_result",
          "data": {
            "text/plain": [
              "13"
            ]
          },
          "metadata": {
            "tags": []
          },
          "execution_count": 25
        }
      ]
    },
    {
      "cell_type": "markdown",
      "metadata": {
        "id": "52owyh5lPr3_"
      },
      "source": [
        "Setting up our Dependent and Independent variables."
      ]
    },
    {
      "cell_type": "code",
      "metadata": {
        "id": "nWiE_vQrG-uC"
      },
      "source": [
        "# independent variables\n",
        "unscaled_Inputs = df_train.drop(['target'],axis=1)\n",
        "\n",
        "# dependent variable\n",
        "target = df_train['target']"
      ],
      "execution_count": 26,
      "outputs": []
    },
    {
      "cell_type": "markdown",
      "metadata": {
        "id": "Oqb3gFTh9t11"
      },
      "source": [
        "Undersampling.\n",
        "\n",
        "As our target variable is unbalanced we will perform Undersampling to balance it.  "
      ]
    },
    {
      "cell_type": "code",
      "metadata": {
        "id": "fekK2ato9tMF"
      },
      "source": [
        "from imblearn.under_sampling import NearMiss"
      ],
      "execution_count": 28,
      "outputs": []
    },
    {
      "cell_type": "code",
      "metadata": {
        "id": "w5JuVFjL9-fJ"
      },
      "source": [
        "#implementing Undersampling to handle imbalanced\n",
        "nm = NearMiss(random_state=42)"
      ],
      "execution_count": 29,
      "outputs": []
    },
    {
      "cell_type": "code",
      "metadata": {
        "colab": {
          "base_uri": "https://localhost:8080/"
        },
        "id": "Ngg4kMqn-gKO",
        "outputId": "f0dc2e45-1fb0-4659-de50-db5efb3d7ede"
      },
      "source": [
        "X_res, Y_res = nm.fit_sample(unscaled_Inputs, target)"
      ],
      "execution_count": 30,
      "outputs": [
        {
          "output_type": "stream",
          "text": [
            "/usr/local/lib/python3.6/dist-packages/sklearn/utils/deprecation.py:87: FutureWarning: Function safe_indexing is deprecated; safe_indexing is deprecated in version 0.22 and will be removed in version 0.24.\n",
            "  warnings.warn(msg, category=FutureWarning)\n",
            "/usr/local/lib/python3.6/dist-packages/sklearn/utils/deprecation.py:87: FutureWarning: Function safe_indexing is deprecated; safe_indexing is deprecated in version 0.22 and will be removed in version 0.24.\n",
            "  warnings.warn(msg, category=FutureWarning)\n",
            "/usr/local/lib/python3.6/dist-packages/sklearn/utils/deprecation.py:87: FutureWarning: Function safe_indexing is deprecated; safe_indexing is deprecated in version 0.22 and will be removed in version 0.24.\n",
            "  warnings.warn(msg, category=FutureWarning)\n"
          ],
          "name": "stderr"
        }
      ]
    },
    {
      "cell_type": "code",
      "metadata": {
        "colab": {
          "base_uri": "https://localhost:8080/"
        },
        "id": "boUPhlgM-4Wl",
        "outputId": "fca45d09-1e87-487c-d794-3066b280da61"
      },
      "source": [
        "X_res.shape"
      ],
      "execution_count": 31,
      "outputs": [
        {
          "output_type": "execute_result",
          "data": {
            "text/plain": [
              "(890, 13)"
            ]
          },
          "metadata": {
            "tags": []
          },
          "execution_count": 31
        }
      ]
    },
    {
      "cell_type": "code",
      "metadata": {
        "colab": {
          "base_uri": "https://localhost:8080/"
        },
        "id": "2ih-vwen-8ZZ",
        "outputId": "92a15ffa-ffd1-4e63-e6d6-de023bef8046"
      },
      "source": [
        "Y_res.shape"
      ],
      "execution_count": 32,
      "outputs": [
        {
          "output_type": "execute_result",
          "data": {
            "text/plain": [
              "(890,)"
            ]
          },
          "metadata": {
            "tags": []
          },
          "execution_count": 32
        }
      ]
    },
    {
      "cell_type": "markdown",
      "metadata": {
        "id": "MRbveWUKIgeJ"
      },
      "source": [
        "Standardization"
      ]
    },
    {
      "cell_type": "code",
      "metadata": {
        "id": "tpar0cKLIdWw",
        "colab": {
          "base_uri": "https://localhost:8080/"
        },
        "outputId": "8fe017f2-22e3-45ad-feaf-7eb610808d5d"
      },
      "source": [
        "from sklearn.preprocessing import StandardScaler\n",
        "\n",
        "campaign_scaler = StandardScaler()\n",
        "campaign_scaler.fit(X_res)\n",
        "scaled_inputes = campaign_scaler.transform(X_res)\n",
        "scaled_inputes"
      ],
      "execution_count": 33,
      "outputs": [
        {
          "output_type": "execute_result",
          "data": {
            "text/plain": [
              "array([[ 0.66855862,  0.19608491, -0.24226021, ...,  0.71314   ,\n",
              "        -0.36086576, -0.54449631],\n",
              "       [ 1.20844717,  0.88310398, -0.28738611, ...,  1.06079087,\n",
              "        -0.36086576,  0.07599244],\n",
              "       [-0.86112561, -1.31790157, -0.73864518, ..., -0.61952166,\n",
              "        -0.36086576,  0.69648119],\n",
              "       ...,\n",
              "       [-0.32123706, -1.66141111,  1.73876711, ...,  0.94490725,\n",
              "        -0.36086576,  0.69648119],\n",
              "       [ 3.63794564, -1.86497231,  0.20448627, ...,  0.07578008,\n",
              "         2.31579006, -0.54449631],\n",
              "       [ 0.12867007,  0.84493625,  0.78661047, ...,  1.29255812,\n",
              "        -0.36086576,  0.69648119]])"
            ]
          },
          "metadata": {
            "tags": []
          },
          "execution_count": 33
        }
      ]
    },
    {
      "cell_type": "markdown",
      "metadata": {
        "id": "VfqGQo46JQaN"
      },
      "source": [
        "**Logistic Regression Model**"
      ]
    },
    {
      "cell_type": "code",
      "metadata": {
        "id": "KxtvBXzmVNWB",
        "colab": {
          "base_uri": "https://localhost:8080/"
        },
        "outputId": "83083054-920b-494c-b8f8-c33f9f4ab7ec"
      },
      "source": [
        "model = LogisticRegression()\n",
        "model.fit(scaled_inputes, Y_res)"
      ],
      "execution_count": 34,
      "outputs": [
        {
          "output_type": "execute_result",
          "data": {
            "text/plain": [
              "LogisticRegression(C=1.0, class_weight=None, dual=False, fit_intercept=True,\n",
              "                   intercept_scaling=1, l1_ratio=None, max_iter=100,\n",
              "                   multi_class='auto', n_jobs=None, penalty='l2',\n",
              "                   random_state=None, solver='lbfgs', tol=0.0001, verbose=0,\n",
              "                   warm_start=False)"
            ]
          },
          "metadata": {
            "tags": []
          },
          "execution_count": 34
        }
      ]
    },
    {
      "cell_type": "markdown",
      "metadata": {
        "id": "ml4OhCSfVsmC"
      },
      "source": [
        "Finding the intercept and coefficients"
      ]
    },
    {
      "cell_type": "code",
      "metadata": {
        "id": "l3KkRUsEVokL",
        "colab": {
          "base_uri": "https://localhost:8080/"
        },
        "outputId": "dd04e8e5-b841-445b-afca-29f9f96d7ece"
      },
      "source": [
        "#let's see the order of classes\n",
        "model.classes_"
      ],
      "execution_count": 35,
      "outputs": [
        {
          "output_type": "execute_result",
          "data": {
            "text/plain": [
              "array([0, 1])"
            ]
          },
          "metadata": {
            "tags": []
          },
          "execution_count": 35
        }
      ]
    },
    {
      "cell_type": "code",
      "metadata": {
        "id": "nfmHCsiiV2Ra",
        "colab": {
          "base_uri": "https://localhost:8080/"
        },
        "outputId": "6f1f5b39-2009-41ca-b935-879d9d53cb3d"
      },
      "source": [
        "model.intercept_"
      ],
      "execution_count": 36,
      "outputs": [
        {
          "output_type": "execute_result",
          "data": {
            "text/plain": [
              "array([0.0887682])"
            ]
          },
          "metadata": {
            "tags": []
          },
          "execution_count": 36
        }
      ]
    },
    {
      "cell_type": "code",
      "metadata": {
        "id": "XwpEwxWQV7aP",
        "colab": {
          "base_uri": "https://localhost:8080/"
        },
        "outputId": "9ed19a2a-ee42-4c2d-bd62-2cd76d5c1237"
      },
      "source": [
        "model.coef_"
      ],
      "execution_count": 37,
      "outputs": [
        {
          "output_type": "execute_result",
          "data": {
            "text/plain": [
              "array([[ 0.08556038,  0.08566433,  0.12455421,  0.37220421,  0.80904054,\n",
              "         0.7033998 ,  0.30795614, -0.15800097, -0.05391796, -0.03899963,\n",
              "        -0.0357975 ,  0.60611546,  0.79971044]])"
            ]
          },
          "metadata": {
            "tags": []
          },
          "execution_count": 37
        }
      ]
    },
    {
      "cell_type": "code",
      "metadata": {
        "id": "4RlqRjY6I_k3",
        "colab": {
          "base_uri": "https://localhost:8080/"
        },
        "outputId": "5fb91ae2-c082-4b39-dc3b-8735f3f3707f"
      },
      "source": [
        "predictions = model.predict(scaled_inputes)\n",
        "\n",
        "print(\"Accuracy {0:.2f}%\".format(100*accuracy_score(predictions, Y_res)))\n",
        "print(confusion_matrix(Y_res, predictions))\n",
        "print(classification_report(Y_res, predictions))"
      ],
      "execution_count": 38,
      "outputs": [
        {
          "output_type": "stream",
          "text": [
            "Accuracy 75.17%\n",
            "[[342 103]\n",
            " [118 327]]\n",
            "              precision    recall  f1-score   support\n",
            "\n",
            "           0       0.74      0.77      0.76       445\n",
            "           1       0.76      0.73      0.75       445\n",
            "\n",
            "    accuracy                           0.75       890\n",
            "   macro avg       0.75      0.75      0.75       890\n",
            "weighted avg       0.75      0.75      0.75       890\n",
            "\n"
          ],
          "name": "stdout"
        }
      ]
    },
    {
      "cell_type": "markdown",
      "metadata": {
        "id": "QyjFKrSsJna8"
      },
      "source": [
        "Compared with result from imbalanced data we have lower accuracy score, however now precision for 0 and 1 are balanced. We get better result."
      ]
    },
    {
      "cell_type": "markdown",
      "metadata": {
        "id": "N4XlvKhDADa_"
      },
      "source": [
        "**Decision Tree Model**"
      ]
    },
    {
      "cell_type": "code",
      "metadata": {
        "id": "8dfXTpZWAC69"
      },
      "source": [
        "# Let's try Decision Tree now to see if our resutls get better\n",
        "from sklearn.tree import DecisionTreeClassifier"
      ],
      "execution_count": 44,
      "outputs": []
    },
    {
      "cell_type": "code",
      "metadata": {
        "colab": {
          "base_uri": "https://localhost:8080/"
        },
        "id": "-TAz4HPDEnLR",
        "outputId": "c27ce2b3-ef49-479f-8bab-d8fdc6d75d80"
      },
      "source": [
        "model_dt = DecisionTreeClassifier()\n",
        "model_dt.fit(scaled_inputes, Y_res)"
      ],
      "execution_count": 45,
      "outputs": [
        {
          "output_type": "execute_result",
          "data": {
            "text/plain": [
              "DecisionTreeClassifier(ccp_alpha=0.0, class_weight=None, criterion='gini',\n",
              "                       max_depth=None, max_features=None, max_leaf_nodes=None,\n",
              "                       min_impurity_decrease=0.0, min_impurity_split=None,\n",
              "                       min_samples_leaf=1, min_samples_split=2,\n",
              "                       min_weight_fraction_leaf=0.0, presort='deprecated',\n",
              "                       random_state=None, splitter='best')"
            ]
          },
          "metadata": {
            "tags": []
          },
          "execution_count": 45
        }
      ]
    },
    {
      "cell_type": "code",
      "metadata": {
        "id": "uFopuLSiFCh7"
      },
      "source": [
        "predictions_dt = model_dt.predict(scaled_inputes)\n",
        "score_dt = model_dt.score(scaled_inputes, Y_res)"
      ],
      "execution_count": 46,
      "outputs": []
    },
    {
      "cell_type": "code",
      "metadata": {
        "colab": {
          "base_uri": "https://localhost:8080/"
        },
        "id": "pwkVbFsXFJO7",
        "outputId": "1ad27ed7-bebb-4998-c6d0-a1c2434e943a"
      },
      "source": [
        "print(\"Accuracy = \" + str(score_dt))\n",
        "print(confusion_matrix(Y_res, predictions_dt))\n",
        "print(classification_report(Y_res, predictions_dt))"
      ],
      "execution_count": 47,
      "outputs": [
        {
          "output_type": "stream",
          "text": [
            "Accuracy = 1.0\n",
            "[[445   0]\n",
            " [  0 445]]\n",
            "              precision    recall  f1-score   support\n",
            "\n",
            "           0       1.00      1.00      1.00       445\n",
            "           1       1.00      1.00      1.00       445\n",
            "\n",
            "    accuracy                           1.00       890\n",
            "   macro avg       1.00      1.00      1.00       890\n",
            "weighted avg       1.00      1.00      1.00       890\n",
            "\n"
          ],
          "name": "stdout"
        }
      ]
    },
    {
      "cell_type": "markdown",
      "metadata": {
        "id": "URrAPp0eAMt2"
      },
      "source": [
        "**Random Forest Model**"
      ]
    },
    {
      "cell_type": "code",
      "metadata": {
        "id": "xzNB6UnuAPUJ"
      },
      "source": [
        "# Let's try Random Forests now to see if our resutls get better\n",
        "from sklearn.ensemble import RandomForestClassifier"
      ],
      "execution_count": 39,
      "outputs": []
    },
    {
      "cell_type": "code",
      "metadata": {
        "colab": {
          "base_uri": "https://localhost:8080/"
        },
        "id": "pOA1ZOxNBt3l",
        "outputId": "4634756c-133d-45e0-dcb8-e47fd41adf2f"
      },
      "source": [
        "model_rf = RandomForestClassifier()\n",
        "model_rf.fit(scaled_inputes, Y_res)\n"
      ],
      "execution_count": 40,
      "outputs": [
        {
          "output_type": "execute_result",
          "data": {
            "text/plain": [
              "RandomForestClassifier(bootstrap=True, ccp_alpha=0.0, class_weight=None,\n",
              "                       criterion='gini', max_depth=None, max_features='auto',\n",
              "                       max_leaf_nodes=None, max_samples=None,\n",
              "                       min_impurity_decrease=0.0, min_impurity_split=None,\n",
              "                       min_samples_leaf=1, min_samples_split=2,\n",
              "                       min_weight_fraction_leaf=0.0, n_estimators=100,\n",
              "                       n_jobs=None, oob_score=False, random_state=None,\n",
              "                       verbose=0, warm_start=False)"
            ]
          },
          "metadata": {
            "tags": []
          },
          "execution_count": 40
        }
      ]
    },
    {
      "cell_type": "code",
      "metadata": {
        "id": "_ezCn_NhB4xn"
      },
      "source": [
        "predictions = model_rf.predict(scaled_inputes)\n",
        "score = model_rf.score(scaled_inputes, Y_res)"
      ],
      "execution_count": 41,
      "outputs": []
    },
    {
      "cell_type": "code",
      "metadata": {
        "colab": {
          "base_uri": "https://localhost:8080/"
        },
        "id": "O89xCF7jBx0J",
        "outputId": "ccc4a273-80df-4bb4-e86f-eb2945f4ea36"
      },
      "source": [
        "print(\"Accuracy = \" + str(score))\n",
        "print(confusion_matrix(Y_res, predictions))\n",
        "print(classification_report(Y_res, predictions))\n"
      ],
      "execution_count": 42,
      "outputs": [
        {
          "output_type": "stream",
          "text": [
            "Accuracy = 1.0\n",
            "[[445   0]\n",
            " [  0 445]]\n",
            "              precision    recall  f1-score   support\n",
            "\n",
            "           0       1.00      1.00      1.00       445\n",
            "           1       1.00      1.00      1.00       445\n",
            "\n",
            "    accuracy                           1.00       890\n",
            "   macro avg       1.00      1.00      1.00       890\n",
            "weighted avg       1.00      1.00      1.00       890\n",
            "\n"
          ],
          "name": "stdout"
        }
      ]
    },
    {
      "cell_type": "markdown",
      "metadata": {
        "id": "L1QEBe1dSSBi"
      },
      "source": [
        "With training data we perform 3 Models and as we see \"Random Forest\" and \"Decision Tree\" ideally perform and have better than Logistic Regression. Now we will try on test data."
      ]
    },
    {
      "cell_type": "markdown",
      "metadata": {
        "id": "xZ8ES9KcLAtv"
      },
      "source": [
        "### **Test data**"
      ]
    },
    {
      "cell_type": "code",
      "metadata": {
        "id": "wWU2OXWWKL-r"
      },
      "source": [
        "#getting target variable for test data\n",
        "test_target = df_train['target'].sample(n=333)"
      ],
      "execution_count": 85,
      "outputs": []
    },
    {
      "cell_type": "code",
      "metadata": {
        "colab": {
          "base_uri": "https://localhost:8080/"
        },
        "id": "YUHUctHZKmO4",
        "outputId": "3ae3ebd4-f433-4960-f91f-57203f91d7ac"
      },
      "source": [
        "test_target.shape"
      ],
      "execution_count": 86,
      "outputs": [
        {
          "output_type": "execute_result",
          "data": {
            "text/plain": [
              "(333,)"
            ]
          },
          "metadata": {
            "tags": []
          },
          "execution_count": 86
        }
      ]
    },
    {
      "cell_type": "code",
      "metadata": {
        "colab": {
          "base_uri": "https://localhost:8080/"
        },
        "id": "mpL6_OiTUJj1",
        "outputId": "396be987-5926-46c4-9b9b-cce5f82511fc"
      },
      "source": [
        "test_target.value_counts()"
      ],
      "execution_count": 87,
      "outputs": [
        {
          "output_type": "execute_result",
          "data": {
            "text/plain": [
              "0    284\n",
              "1     49\n",
              "Name: target, dtype: int64"
            ]
          },
          "metadata": {
            "tags": []
          },
          "execution_count": 87
        }
      ]
    },
    {
      "cell_type": "code",
      "metadata": {
        "colab": {
          "base_uri": "https://localhost:8080/"
        },
        "id": "B7uugGv3Urbw",
        "outputId": "c5aff007-041e-40ea-946a-0d2a92bd899c"
      },
      "source": [
        "#resampling for balancing\n",
        "X_test_res, Y_test_res = nm.fit_sample(df_test, test_target)"
      ],
      "execution_count": 88,
      "outputs": [
        {
          "output_type": "stream",
          "text": [
            "/usr/local/lib/python3.6/dist-packages/sklearn/utils/deprecation.py:87: FutureWarning: Function safe_indexing is deprecated; safe_indexing is deprecated in version 0.22 and will be removed in version 0.24.\n",
            "  warnings.warn(msg, category=FutureWarning)\n",
            "/usr/local/lib/python3.6/dist-packages/sklearn/utils/deprecation.py:87: FutureWarning: Function safe_indexing is deprecated; safe_indexing is deprecated in version 0.22 and will be removed in version 0.24.\n",
            "  warnings.warn(msg, category=FutureWarning)\n",
            "/usr/local/lib/python3.6/dist-packages/sklearn/utils/deprecation.py:87: FutureWarning: Function safe_indexing is deprecated; safe_indexing is deprecated in version 0.22 and will be removed in version 0.24.\n",
            "  warnings.warn(msg, category=FutureWarning)\n"
          ],
          "name": "stderr"
        }
      ]
    },
    {
      "cell_type": "code",
      "metadata": {
        "colab": {
          "base_uri": "https://localhost:8080/"
        },
        "id": "gutln5RvVsfh",
        "outputId": "1cf855ce-a598-4564-acd4-ed7b83348d32"
      },
      "source": [
        "X_test_res.shape"
      ],
      "execution_count": 89,
      "outputs": [
        {
          "output_type": "execute_result",
          "data": {
            "text/plain": [
              "(98, 13)"
            ]
          },
          "metadata": {
            "tags": []
          },
          "execution_count": 89
        }
      ]
    },
    {
      "cell_type": "code",
      "metadata": {
        "colab": {
          "base_uri": "https://localhost:8080/"
        },
        "id": "kCcT6-F3VyHy",
        "outputId": "1df85e2e-bed7-4046-f35c-1f3160959705"
      },
      "source": [
        "Y_test_res.shape"
      ],
      "execution_count": 90,
      "outputs": [
        {
          "output_type": "execute_result",
          "data": {
            "text/plain": [
              "(98,)"
            ]
          },
          "metadata": {
            "tags": []
          },
          "execution_count": 90
        }
      ]
    },
    {
      "cell_type": "markdown",
      "metadata": {
        "id": "xoIUSw55yIDI"
      },
      "source": [
        "Standartize"
      ]
    },
    {
      "cell_type": "code",
      "metadata": {
        "id": "RySnwQXvZHEv",
        "colab": {
          "base_uri": "https://localhost:8080/"
        },
        "outputId": "cbfde776-3ecf-436c-a2b0-fdb52e656932"
      },
      "source": [
        "from sklearn.preprocessing import StandardScaler\n",
        "\n",
        "test_scaler = StandardScaler()\n",
        "test_scaler.fit(X_test_res)\n",
        "test_scaled_inputes = test_scaler.transform(X_test_res)\n",
        "test_scaled_inputes"
      ],
      "execution_count": 94,
      "outputs": [
        {
          "output_type": "execute_result",
          "data": {
            "text/plain": [
              "array([[ 4.74248192e-01, -1.87798678e-01, -8.46045206e-01, ...,\n",
              "        -4.42603098e-01, -4.75640289e-01,  2.75616385e-01],\n",
              "       [ 1.87357311e-01,  5.38994166e-01, -1.56804406e-01, ...,\n",
              "         1.07048191e+00, -4.75640289e-01,  1.96376674e+00],\n",
              "       [-5.77685041e-01, -9.40189558e-02,  1.09215543e+00, ...,\n",
              "         1.87848989e-01, -4.75640289e-01,  1.11969156e+00],\n",
              "       ...,\n",
              "       [-7.68945629e-01, -6.91864682e-01,  1.65187447e+00, ...,\n",
              "        -4.42603098e-01,  1.85377112e+00, -5.68458794e-01],\n",
              "       [ 1.74931878e+00,  1.58229357e+00, -1.42889313e+00, ...,\n",
              "         1.76397921e+00, -4.75640289e-01, -5.68458794e-01],\n",
              "       [-3.57800420e-02,  2.57655001e-01,  1.39283095e+00, ...,\n",
              "        -1.28663691e-03, -4.75640289e-01, -1.41253397e+00]])"
            ]
          },
          "metadata": {
            "tags": []
          },
          "execution_count": 94
        }
      ]
    },
    {
      "cell_type": "code",
      "metadata": {
        "colab": {
          "base_uri": "https://localhost:8080/"
        },
        "id": "aXDyZkcOWyGd",
        "outputId": "64bb0aec-7182-4a0c-cd40-da9ea0bdc30b"
      },
      "source": [
        "test_scaled_inputes.shape"
      ],
      "execution_count": 96,
      "outputs": [
        {
          "output_type": "execute_result",
          "data": {
            "text/plain": [
              "(98, 13)"
            ]
          },
          "metadata": {
            "tags": []
          },
          "execution_count": 96
        }
      ]
    },
    {
      "cell_type": "code",
      "metadata": {
        "colab": {
          "base_uri": "https://localhost:8080/"
        },
        "id": "dXRiMuwcW-GS",
        "outputId": "29fe8990-fb5f-4152-d9b5-c1042984481c"
      },
      "source": [
        "Y_test_res.shape"
      ],
      "execution_count": 97,
      "outputs": [
        {
          "output_type": "execute_result",
          "data": {
            "text/plain": [
              "(98,)"
            ]
          },
          "metadata": {
            "tags": []
          },
          "execution_count": 97
        }
      ]
    },
    {
      "cell_type": "code",
      "metadata": {
        "id": "4uvz71HeGD6u"
      },
      "source": [
        "#test prediction on Logistic Regression\n",
        "test_predictions_lg = model.predict(test_scaled_inputes)\n",
        "test_score_lg = model.score(test_scaled_inputes, Y_test_res)"
      ],
      "execution_count": 98,
      "outputs": []
    },
    {
      "cell_type": "code",
      "metadata": {
        "id": "lUtlmZnCXFCu"
      },
      "source": [
        "#test prediction on Decision Tree\n",
        "test_predictions_dt = model_dt.predict(test_scaled_inputes)\n",
        "test_score_dt = model_dt.score(test_scaled_inputes, Y_test_res)"
      ],
      "execution_count": 99,
      "outputs": []
    },
    {
      "cell_type": "code",
      "metadata": {
        "id": "6xAjkofiXQcj"
      },
      "source": [
        "#test prediction on Random Forest\n",
        "test_predictions_rf = model_rf.predict(test_scaled_inputes)\n",
        "test_score_rf = model_rf.score(test_scaled_inputes, Y_test_res)"
      ],
      "execution_count": 100,
      "outputs": []
    },
    {
      "cell_type": "code",
      "metadata": {
        "colab": {
          "base_uri": "https://localhost:8080/"
        },
        "id": "2JMOFVlxGCOy",
        "outputId": "8edb7abc-9570-4e81-8af8-d22eebcd30c4"
      },
      "source": [
        "print(\"Logistic Regression\")\n",
        "print(\"Accuracy = \" + str(test_score_lg))\n",
        "print(confusion_matrix(Y_test_res, test_predictions_lg))\n",
        "print(classification_report(Y_test_res, test_predictions_lg))\n",
        "print(\"--------------------------------\")\n",
        "\n",
        "print(\"Decision Tree\")\n",
        "print(\"Accuracy = \" + str(test_score_dt))\n",
        "print(confusion_matrix(Y_test_res, test_predictions_dt))\n",
        "print(classification_report(Y_test_res, test_predictions_dt))\n",
        "print(\"--------------------------------\")\n",
        "\n",
        "print(\"Random Forest\")\n",
        "print(\"Accuracy = \" + str(test_score_rf))\n",
        "print(confusion_matrix(Y_test_res, test_predictions_rf))\n",
        "print(classification_report(Y_test_res, test_predictions_rf))"
      ],
      "execution_count": 101,
      "outputs": [
        {
          "output_type": "stream",
          "text": [
            "Logistic Regression\n",
            "Accuracy = 0.6326530612244898\n",
            "[[31 18]\n",
            " [18 31]]\n",
            "              precision    recall  f1-score   support\n",
            "\n",
            "           0       0.63      0.63      0.63        49\n",
            "           1       0.63      0.63      0.63        49\n",
            "\n",
            "    accuracy                           0.63        98\n",
            "   macro avg       0.63      0.63      0.63        98\n",
            "weighted avg       0.63      0.63      0.63        98\n",
            "\n",
            "--------------------------------\n",
            "Decision Tree\n",
            "Accuracy = 0.6326530612244898\n",
            "[[36 13]\n",
            " [23 26]]\n",
            "              precision    recall  f1-score   support\n",
            "\n",
            "           0       0.61      0.73      0.67        49\n",
            "           1       0.67      0.53      0.59        49\n",
            "\n",
            "    accuracy                           0.63        98\n",
            "   macro avg       0.64      0.63      0.63        98\n",
            "weighted avg       0.64      0.63      0.63        98\n",
            "\n",
            "--------------------------------\n",
            "Random Forest\n",
            "Accuracy = 0.7040816326530612\n",
            "[[36 13]\n",
            " [16 33]]\n",
            "              precision    recall  f1-score   support\n",
            "\n",
            "           0       0.69      0.73      0.71        49\n",
            "           1       0.72      0.67      0.69        49\n",
            "\n",
            "    accuracy                           0.70        98\n",
            "   macro avg       0.70      0.70      0.70        98\n",
            "weighted avg       0.70      0.70      0.70        98\n",
            "\n"
          ],
          "name": "stdout"
        }
      ]
    },
    {
      "cell_type": "markdown",
      "metadata": {
        "id": "5v6J6Hi9S9sG"
      },
      "source": [
        "As we perform balancing of target variable for testing data we lost some portion of data. We performed 3 models and the best result gave \"Random Forest\". "
      ]
    },
    {
      "cell_type": "code",
      "metadata": {
        "id": "qPKNq2TCZBnD"
      },
      "source": [
        ""
      ],
      "execution_count": null,
      "outputs": []
    }
  ]
}